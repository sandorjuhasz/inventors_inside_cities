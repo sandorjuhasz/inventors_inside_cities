{
 "cells": [
  {
   "cell_type": "code",
   "execution_count": 3,
   "metadata": {},
   "outputs": [],
   "source": [
    "import numpy as np\n",
    "import matplotlib.pyplot as plt\n",
    "import pandas as pd\n",
    "import geopandas as gpd\n",
    "from shapely.geometry import Point, Polygon, LineString\n",
    "import time\n",
    "import json"
   ]
  },
  {
   "cell_type": "code",
   "execution_count": 18,
   "metadata": {},
   "outputs": [],
   "source": [
    "# limited data IN\n",
    "df = pd.read_csv(\"../outputs/geoc_inv_US_2011_2020.csv\", sep=\";\")"
   ]
  },
  {
   "cell_type": "code",
   "execution_count": 19,
   "metadata": {},
   "outputs": [],
   "source": [
    "# create locations table\n",
    "locations = df[[\"lat\", \"lng\"]].drop_duplicates()\n",
    "locations[\"location_id\"] = locations.index + 1"
   ]
  },
  {
   "cell_type": "code",
   "execution_count": 20,
   "metadata": {},
   "outputs": [],
   "source": [
    "# add Point geometry for spatial join\n",
    "locations[\"geometry\"] = [Point(xy) for xy in zip(locations.lng, locations.lat)]\n",
    "locations = gpd.GeoDataFrame(locations, geometry=\"geometry\", crs=\"EPSG:4326\")"
   ]
  },
  {
   "cell_type": "code",
   "execution_count": 21,
   "metadata": {},
   "outputs": [],
   "source": [
    "# census tract geoms\n",
    "tract_geoms = gpd.GeoDataFrame.from_features(\n",
    "    [json.loads(e.strip('\\n')) for e in open('../data/shape_files/censustract_geoms_top50.geojson').readlines()]\n",
    ")\n",
    "tract_geoms = tract_geoms.set_crs(\"epsg:4326\")"
   ]
  },
  {
   "cell_type": "code",
   "execution_count": 22,
   "metadata": {},
   "outputs": [],
   "source": [
    "def locations_to_census_tracts(points, tracts):\n",
    "    \"\"\"spatial join locations to census tracts\"\"\"\n",
    "    location_with_tract = gpd.sjoin(\n",
    "        points,\n",
    "        tracts,\n",
    "        \"left\",\n",
    "        \"within\",\n",
    "    )\n",
    "    return location_with_tract"
   ]
  },
  {
   "cell_type": "code",
   "execution_count": 26,
   "metadata": {},
   "outputs": [],
   "source": [
    "# add census tract IDs to locations\n",
    "locations = locations_to_census_tracts(locations, tract_geoms)\n",
    "locations.dropna(subset=[\"full_geoid\"], inplace=True)"
   ]
  },
  {
   "cell_type": "code",
   "execution_count": 36,
   "metadata": {},
   "outputs": [],
   "source": [
    "# add cbsacode\n",
    "cbsa = pd.read_csv(\"../data/cbsacode_shortname_tracts.csv\", sep=\";\", index_col=0)\n",
    "\n",
    "locations = pd.merge(\n",
    "    locations,\n",
    "    cbsa,\n",
    "    left_on=\"full_geoid\",\n",
    "    right_on=\"geoid\",\n",
    "    how=\"left\"\n",
    ")"
   ]
  },
  {
   "cell_type": "code",
   "execution_count": 43,
   "metadata": {},
   "outputs": [],
   "source": [
    "# nodelist with key columns ONLY\n",
    "nodelist = locations[[\"location_id\", \"lng\", \"lat\", \"geoid\", \"cbsacode\", \"short_name\"]].rename(columns={\"lng\":\"lon\"})"
   ]
  },
  {
   "cell_type": "code",
   "execution_count": 45,
   "metadata": {},
   "outputs": [
    {
     "data": {
      "text/html": [
       "<div>\n",
       "<style scoped>\n",
       "    .dataframe tbody tr th:only-of-type {\n",
       "        vertical-align: middle;\n",
       "    }\n",
       "\n",
       "    .dataframe tbody tr th {\n",
       "        vertical-align: top;\n",
       "    }\n",
       "\n",
       "    .dataframe thead th {\n",
       "        text-align: right;\n",
       "    }\n",
       "</style>\n",
       "<table border=\"1\" class=\"dataframe\">\n",
       "  <thead>\n",
       "    <tr style=\"text-align: right;\">\n",
       "      <th></th>\n",
       "      <th>location_id</th>\n",
       "      <th>lon</th>\n",
       "      <th>lat</th>\n",
       "      <th>geoid</th>\n",
       "      <th>cbsacode</th>\n",
       "      <th>short_name</th>\n",
       "    </tr>\n",
       "  </thead>\n",
       "  <tbody>\n",
       "    <tr>\n",
       "      <th>0</th>\n",
       "      <td>2</td>\n",
       "      <td>-96.9584</td>\n",
       "      <td>32.8629</td>\n",
       "      <td>14000US48113014312</td>\n",
       "      <td>19100.0</td>\n",
       "      <td>Dallas</td>\n",
       "    </tr>\n",
       "    <tr>\n",
       "      <th>1</th>\n",
       "      <td>3</td>\n",
       "      <td>-88.0135</td>\n",
       "      <td>42.0521</td>\n",
       "      <td>14000US17031770202</td>\n",
       "      <td>16980.0</td>\n",
       "      <td>Chicago</td>\n",
       "    </tr>\n",
       "  </tbody>\n",
       "</table>\n",
       "</div>"
      ],
      "text/plain": [
       "   location_id      lon      lat               geoid  cbsacode short_name\n",
       "0            2 -96.9584  32.8629  14000US48113014312   19100.0     Dallas\n",
       "1            3 -88.0135  42.0521  14000US17031770202   16980.0    Chicago"
      ]
     },
     "execution_count": 45,
     "metadata": {},
     "output_type": "execute_result"
    }
   ],
   "source": [
    "nodelist.head(2)"
   ]
  },
  {
   "cell_type": "code",
   "execution_count": 46,
   "metadata": {},
   "outputs": [],
   "source": [
    "# join location IDs to df\n",
    "df2 = pd.merge(\n",
    "    df,\n",
    "    locations,\n",
    "    on=[\"lat\", \"lng\"],\n",
    "    how=\"left\"\n",
    ")"
   ]
  },
  {
   "cell_type": "code",
   "execution_count": 47,
   "metadata": {},
   "outputs": [],
   "source": [
    "def edgelist_construction(df, key_cols, directed):\n",
    "    \"\"\"create location-location edgelist\"\"\"\n",
    "    \n",
    "    # focus the dataframe\n",
    "    df = df[key_cols].drop_duplicates()\n",
    "\n",
    "\n",
    "    # create edgelist by join\n",
    "    el = pd.merge(\n",
    "        df,\n",
    "        df,\n",
    "        on=key_cols[0],\n",
    "        suffixes=[\"1\", \"2\"]\n",
    "    )\n",
    "\n",
    "    # directed\n",
    "    if directed == True:\n",
    "        el = el[el.iloc[:, 1] != el.iloc[:, 2]]\n",
    "    else:\n",
    "        el = el[el.iloc[:, 1] < el.iloc[:, 2]]\n",
    "    \n",
    "    # final dataframe\n",
    "    el = el.iloc[:, 1:]\n",
    "\n",
    "    return el"
   ]
  },
  {
   "cell_type": "code",
   "execution_count": 66,
   "metadata": {},
   "outputs": [
    {
     "name": "stdout",
     "output_type": "stream",
     "text": [
      "--- 0.227 seconds ---\n"
     ]
    }
   ],
   "source": [
    "# create the edgelist\n",
    "start_time = time.time()\n",
    "el = edgelist_construction(df2, key_cols=[\"appln_id\", \"location_id\"], directed=False)\n",
    "print(\"--- %s seconds ---\" % round((time.time() - start_time), 3))"
   ]
  },
  {
   "cell_type": "code",
   "execution_count": 67,
   "metadata": {},
   "outputs": [
    {
     "name": "stderr",
     "output_type": "stream",
     "text": [
      "/var/folders/9d/8j37_fks51x11mk0_zwqsd940000gn/T/ipykernel_13224/131426411.py:9: FutureWarning: Passing 'suffixes' which cause duplicate columns {'location_id1'} in the result is deprecated and will raise a MergeError in a future version.\n",
      "  el = pd.merge(\n"
     ]
    }
   ],
   "source": [
    "# add the coordinates to the edgelist\n",
    "el = pd.merge(\n",
    "    el,\n",
    "    nodelist,\n",
    "    left_on=\"location_id1\",\n",
    "    right_on=\"location_id\",\n",
    "    how=\"left\"\n",
    ")\n",
    "el = pd.merge(\n",
    "    el,\n",
    "    nodelist,\n",
    "    left_on=\"location_id2\",\n",
    "    right_on=\"location_id\",\n",
    "    how=\"left\",\n",
    "    suffixes=[\"1\",\"2\"]\n",
    ")\n",
    "\n",
    "# remove duplicate columns\n",
    "el = el.loc[:,~el.columns.duplicated()].copy()"
   ]
  },
  {
   "cell_type": "code",
   "execution_count": 68,
   "metadata": {},
   "outputs": [
    {
     "name": "stdout",
     "output_type": "stream",
     "text": [
      "(707750, 12)\n",
      "(395580, 12)\n"
     ]
    }
   ],
   "source": [
    "# focus on ties INSIDE metropolitan areas\n",
    "print(el.shape)\n",
    "el = el[el[\"short_name1\"] == el[\"short_name2\"]]\n",
    "print(el.shape)"
   ]
  },
  {
   "cell_type": "code",
   "execution_count": 70,
   "metadata": {},
   "outputs": [
    {
     "data": {
      "text/html": [
       "<div>\n",
       "<style scoped>\n",
       "    .dataframe tbody tr th:only-of-type {\n",
       "        vertical-align: middle;\n",
       "    }\n",
       "\n",
       "    .dataframe tbody tr th {\n",
       "        vertical-align: top;\n",
       "    }\n",
       "\n",
       "    .dataframe thead th {\n",
       "        text-align: right;\n",
       "    }\n",
       "</style>\n",
       "<table border=\"1\" class=\"dataframe\">\n",
       "  <thead>\n",
       "    <tr style=\"text-align: right;\">\n",
       "      <th></th>\n",
       "      <th>location_id1</th>\n",
       "      <th>location_id2</th>\n",
       "      <th>lon1</th>\n",
       "      <th>lat1</th>\n",
       "      <th>geoid1</th>\n",
       "      <th>cbsacode1</th>\n",
       "      <th>short_name1</th>\n",
       "      <th>lon2</th>\n",
       "      <th>lat2</th>\n",
       "      <th>geoid2</th>\n",
       "      <th>cbsacode2</th>\n",
       "      <th>short_name2</th>\n",
       "    </tr>\n",
       "  </thead>\n",
       "  <tbody>\n",
       "    <tr>\n",
       "      <th>0</th>\n",
       "      <td>6.0</td>\n",
       "      <td>7.0</td>\n",
       "      <td>-122.0550</td>\n",
       "      <td>37.3207</td>\n",
       "      <td>14000US06085507701</td>\n",
       "      <td>41940.0</td>\n",
       "      <td>San Jose</td>\n",
       "      <td>-122.126</td>\n",
       "      <td>37.4042</td>\n",
       "      <td>14000US06085510600</td>\n",
       "      <td>41940.0</td>\n",
       "      <td>San Jose</td>\n",
       "    </tr>\n",
       "    <tr>\n",
       "      <th>1</th>\n",
       "      <td>8.0</td>\n",
       "      <td>9.0</td>\n",
       "      <td>-96.9449</td>\n",
       "      <td>32.8138</td>\n",
       "      <td>14000US48113014902</td>\n",
       "      <td>19100.0</td>\n",
       "      <td>Dallas</td>\n",
       "      <td>-96.935</td>\n",
       "      <td>32.8611</td>\n",
       "      <td>14000US48113014206</td>\n",
       "      <td>19100.0</td>\n",
       "      <td>Dallas</td>\n",
       "    </tr>\n",
       "  </tbody>\n",
       "</table>\n",
       "</div>"
      ],
      "text/plain": [
       "   location_id1  location_id2      lon1     lat1              geoid1  \\\n",
       "0           6.0           7.0 -122.0550  37.3207  14000US06085507701   \n",
       "1           8.0           9.0  -96.9449  32.8138  14000US48113014902   \n",
       "\n",
       "   cbsacode1 short_name1     lon2     lat2              geoid2  cbsacode2  \\\n",
       "0    41940.0    San Jose -122.126  37.4042  14000US06085510600    41940.0   \n",
       "1    19100.0      Dallas  -96.935  32.8611  14000US48113014206    19100.0   \n",
       "\n",
       "  short_name2  \n",
       "0    San Jose  \n",
       "1      Dallas  "
      ]
     },
     "execution_count": 70,
     "metadata": {},
     "output_type": "execute_result"
    }
   ],
   "source": [
    "el.head(2)"
   ]
  }
 ],
 "metadata": {
  "kernelspec": {
   "display_name": "Python 3 (ipykernel)",
   "language": "python",
   "name": "python3"
  },
  "language_info": {
   "codemirror_mode": {
    "name": "ipython",
    "version": 3
   },
   "file_extension": ".py",
   "mimetype": "text/x-python",
   "name": "python",
   "nbconvert_exporter": "python",
   "pygments_lexer": "ipython3",
   "version": "3.10.8"
  },
  "vscode": {
   "interpreter": {
    "hash": "b0fa6594d8f4cbf19f97940f81e996739fb7646882a419484c72d19e05852a7e"
   }
  }
 },
 "nbformat": 4,
 "nbformat_minor": 2
}
