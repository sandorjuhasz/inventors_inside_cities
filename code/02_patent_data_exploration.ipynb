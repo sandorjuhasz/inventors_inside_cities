{
 "cells": [
  {
   "cell_type": "code",
   "execution_count": 99,
   "metadata": {},
   "outputs": [],
   "source": [
    "import numpy as np\n",
    "import matplotlib.pyplot as plt\n",
    "import pandas as pd\n",
    "import geopandas as gpd\n",
    "from shapely.geometry import Point, Polygon, LineString\n",
    "import time\n",
    "import json"
   ]
  },
  {
   "cell_type": "code",
   "execution_count": 2,
   "metadata": {},
   "outputs": [],
   "source": [
    "# limited data IN\n",
    "df = pd.read_csv(\"../outputs/geoc_inv_US_2011_2020.csv\", sep=\";\")"
   ]
  },
  {
   "cell_type": "code",
   "execution_count": 9,
   "metadata": {},
   "outputs": [],
   "source": [
    "# create locations table\n",
    "locations = df[[\"lat\", \"lng\"]].drop_duplicates()\n",
    "locations[\"location_id\"] = locations.index + 1"
   ]
  },
  {
   "cell_type": "code",
   "execution_count": 108,
   "metadata": {},
   "outputs": [],
   "source": [
    "# add Point geometry for spatial join\n",
    "locations[\"geometry\"] = [Point(xy) for xy in zip(locations.lng, locations.lat)]\n",
    "locations = gpd.GeoDataFrame(locations, geometry=\"geometry\", crs=\"EPSG:4326\")"
   ]
  },
  {
   "cell_type": "code",
   "execution_count": 116,
   "metadata": {},
   "outputs": [],
   "source": [
    "# census tract geoms\n",
    "tract_geoms = gpd.GeoDataFrame.from_features(\n",
    "    [json.loads(e.strip('\\n')) for e in open('../data/shape_files/censustract_geoms_top50.geojson').readlines()]\n",
    ")\n",
    "tract_geoms = tract_geoms.set_crs(\"epsg:4326\")"
   ]
  },
  {
   "cell_type": "code",
   "execution_count": 117,
   "metadata": {},
   "outputs": [],
   "source": [
    "def locations_to_census_tracts(points, tracts):\n",
    "    \"\"\"spatial join locations to census tracts\"\"\"\n",
    "    location_with_tract = gpd.sjoin(\n",
    "        points,\n",
    "        tracts,\n",
    "        \"left\",\n",
    "        \"within\",\n",
    "    )\n",
    "    return location_with_tract"
   ]
  },
  {
   "cell_type": "code",
   "execution_count": 120,
   "metadata": {},
   "outputs": [],
   "source": [
    "# add census tract IDs to locations\n",
    "locations = locations_to_census_tracts(locations, tract_geoms)\n",
    "locations.dropna(subset=[\"full_geoid\"], inplace=True)"
   ]
  },
  {
   "cell_type": "code",
   "execution_count": null,
   "metadata": {},
   "outputs": [],
   "source": []
  },
  {
   "cell_type": "code",
   "execution_count": null,
   "metadata": {},
   "outputs": [],
   "source": []
  },
  {
   "cell_type": "code",
   "execution_count": null,
   "metadata": {},
   "outputs": [],
   "source": []
  },
  {
   "cell_type": "code",
   "execution_count": null,
   "metadata": {},
   "outputs": [],
   "source": []
  },
  {
   "cell_type": "code",
   "execution_count": 11,
   "metadata": {},
   "outputs": [],
   "source": [
    "# join location IDs to df\n",
    "df2 = pd.merge(\n",
    "    df,\n",
    "    locations,\n",
    "    on=[\"lat\", \"lng\"],\n",
    "    how=\"left\"\n",
    ")"
   ]
  },
  {
   "cell_type": "code",
   "execution_count": 64,
   "metadata": {},
   "outputs": [],
   "source": [
    "def edgelist_construction(df, key_cols, directed):\n",
    "    \"\"\"create location-location edgelist\"\"\"\n",
    "    \n",
    "    # focus the dataframe\n",
    "    df = df[key_cols].drop_duplicates()\n",
    "\n",
    "\n",
    "    # create edgelist by join\n",
    "    el = pd.merge(\n",
    "        df,\n",
    "        df,\n",
    "        on=key_cols[0],\n",
    "        suffixes=[\"1\", \"2\"]\n",
    "    )\n",
    "\n",
    "    # directed\n",
    "    if directed == True:\n",
    "        el = el[el.iloc[:, 1] != el.iloc[:, 2]]\n",
    "    else:\n",
    "        el = el[el.iloc[:, 1] < el.iloc[:, 2]]\n",
    "    \n",
    "    # final dataframe\n",
    "    el = el.iloc[:, 1:]\n",
    "\n",
    "    return el"
   ]
  },
  {
   "cell_type": "code",
   "execution_count": 71,
   "metadata": {},
   "outputs": [
    {
     "name": "stdout",
     "output_type": "stream",
     "text": [
      "--- 0.237 seconds ---\n"
     ]
    }
   ],
   "source": [
    "# full combination from MultiIndex product -- should be fast!\n",
    "start_time = time.time()\n",
    "el = edgelist_construction(df2, key_cols=[\"appln_id\", \"location_id\"], directed=False)\n",
    "print(\"--- %s seconds ---\" % round((time.time() - start_time), 3))"
   ]
  },
  {
   "cell_type": "code",
   "execution_count": 73,
   "metadata": {},
   "outputs": [
    {
     "data": {
      "text/html": [
       "<div>\n",
       "<style scoped>\n",
       "    .dataframe tbody tr th:only-of-type {\n",
       "        vertical-align: middle;\n",
       "    }\n",
       "\n",
       "    .dataframe tbody tr th {\n",
       "        vertical-align: top;\n",
       "    }\n",
       "\n",
       "    .dataframe thead th {\n",
       "        text-align: right;\n",
       "    }\n",
       "</style>\n",
       "<table border=\"1\" class=\"dataframe\">\n",
       "  <thead>\n",
       "    <tr style=\"text-align: right;\">\n",
       "      <th></th>\n",
       "      <th>lat</th>\n",
       "      <th>lng</th>\n",
       "      <th>location_id</th>\n",
       "    </tr>\n",
       "  </thead>\n",
       "  <tbody>\n",
       "    <tr>\n",
       "      <th>0</th>\n",
       "      <td>42.2529</td>\n",
       "      <td>-73.7910</td>\n",
       "      <td>1</td>\n",
       "    </tr>\n",
       "    <tr>\n",
       "      <th>1</th>\n",
       "      <td>32.8629</td>\n",
       "      <td>-96.9584</td>\n",
       "      <td>2</td>\n",
       "    </tr>\n",
       "    <tr>\n",
       "      <th>2</th>\n",
       "      <td>42.0521</td>\n",
       "      <td>-88.0135</td>\n",
       "      <td>3</td>\n",
       "    </tr>\n",
       "    <tr>\n",
       "      <th>5</th>\n",
       "      <td>37.3207</td>\n",
       "      <td>-122.0550</td>\n",
       "      <td>6</td>\n",
       "    </tr>\n",
       "    <tr>\n",
       "      <th>6</th>\n",
       "      <td>37.4042</td>\n",
       "      <td>-122.1260</td>\n",
       "      <td>7</td>\n",
       "    </tr>\n",
       "    <tr>\n",
       "      <th>...</th>\n",
       "      <td>...</td>\n",
       "      <td>...</td>\n",
       "      <td>...</td>\n",
       "    </tr>\n",
       "    <tr>\n",
       "      <th>1330748</th>\n",
       "      <td>38.2029</td>\n",
       "      <td>-75.6924</td>\n",
       "      <td>1330749</td>\n",
       "    </tr>\n",
       "    <tr>\n",
       "      <th>1330979</th>\n",
       "      <td>37.6751</td>\n",
       "      <td>-122.4910</td>\n",
       "      <td>1330980</td>\n",
       "    </tr>\n",
       "    <tr>\n",
       "      <th>1331954</th>\n",
       "      <td>40.0779</td>\n",
       "      <td>-75.6877</td>\n",
       "      <td>1331955</td>\n",
       "    </tr>\n",
       "    <tr>\n",
       "      <th>1332946</th>\n",
       "      <td>35.5479</td>\n",
       "      <td>-87.5520</td>\n",
       "      <td>1332947</td>\n",
       "    </tr>\n",
       "    <tr>\n",
       "      <th>1333974</th>\n",
       "      <td>34.7514</td>\n",
       "      <td>-82.3319</td>\n",
       "      <td>1333975</td>\n",
       "    </tr>\n",
       "  </tbody>\n",
       "</table>\n",
       "<p>30458 rows × 3 columns</p>\n",
       "</div>"
      ],
      "text/plain": [
       "             lat       lng  location_id\n",
       "0        42.2529  -73.7910            1\n",
       "1        32.8629  -96.9584            2\n",
       "2        42.0521  -88.0135            3\n",
       "5        37.3207 -122.0550            6\n",
       "6        37.4042 -122.1260            7\n",
       "...          ...       ...          ...\n",
       "1330748  38.2029  -75.6924      1330749\n",
       "1330979  37.6751 -122.4910      1330980\n",
       "1331954  40.0779  -75.6877      1331955\n",
       "1332946  35.5479  -87.5520      1332947\n",
       "1333974  34.7514  -82.3319      1333975\n",
       "\n",
       "[30458 rows x 3 columns]"
      ]
     },
     "execution_count": 73,
     "metadata": {},
     "output_type": "execute_result"
    }
   ],
   "source": [
    "# add the coordinates to the edgelist\n",
    "locations"
   ]
  },
  {
   "cell_type": "code",
   "execution_count": null,
   "metadata": {},
   "outputs": [],
   "source": [
    "# add the "
   ]
  }
 ],
 "metadata": {
  "kernelspec": {
   "display_name": "Python 3 (ipykernel)",
   "language": "python",
   "name": "python3"
  },
  "language_info": {
   "codemirror_mode": {
    "name": "ipython",
    "version": 3
   },
   "file_extension": ".py",
   "mimetype": "text/x-python",
   "name": "python",
   "nbconvert_exporter": "python",
   "pygments_lexer": "ipython3",
   "version": "3.10.8"
  },
  "vscode": {
   "interpreter": {
    "hash": "b0fa6594d8f4cbf19f97940f81e996739fb7646882a419484c72d19e05852a7e"
   }
  }
 },
 "nbformat": 4,
 "nbformat_minor": 2
}
